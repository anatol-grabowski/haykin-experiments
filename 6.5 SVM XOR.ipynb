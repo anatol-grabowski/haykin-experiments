{
 "cells": [
  {
   "cell_type": "code",
   "execution_count": 1,
   "metadata": {},
   "outputs": [],
   "source": [
    "import numpy as np\n",
    "import pandas as pd\n",
    "import matplotlib.pyplot as plt\n",
    "import scipy\n",
    "import cvxpy"
   ]
  },
  {
   "cell_type": "code",
   "execution_count": 2,
   "metadata": {},
   "outputs": [
    {
     "data": {
      "text/plain": [
       "array([[-1, -1],\n",
       "       [-1,  1],\n",
       "       [ 1, -1],\n",
       "       [ 1,  1]])"
      ]
     },
     "metadata": {},
     "output_type": "display_data"
    },
    {
     "data": {
      "text/plain": [
       "array([[-1],\n",
       "       [ 1],\n",
       "       [ 1],\n",
       "       [-1]])"
      ]
     },
     "metadata": {},
     "output_type": "display_data"
    },
    {
     "data": {
      "text/html": [
       "<div>\n",
       "<style scoped>\n",
       "    .dataframe tbody tr th:only-of-type {\n",
       "        vertical-align: middle;\n",
       "    }\n",
       "\n",
       "    .dataframe tbody tr th {\n",
       "        vertical-align: top;\n",
       "    }\n",
       "\n",
       "    .dataframe thead th {\n",
       "        text-align: right;\n",
       "    }\n",
       "</style>\n",
       "<table border=\"1\" class=\"dataframe\">\n",
       "  <thead>\n",
       "    <tr style=\"text-align: right;\">\n",
       "      <th></th>\n",
       "      <th>x1</th>\n",
       "      <th>x2</th>\n",
       "      <th>y</th>\n",
       "    </tr>\n",
       "  </thead>\n",
       "  <tbody>\n",
       "    <tr>\n",
       "      <th>0</th>\n",
       "      <td>-1</td>\n",
       "      <td>-1</td>\n",
       "      <td>-1</td>\n",
       "    </tr>\n",
       "    <tr>\n",
       "      <th>1</th>\n",
       "      <td>-1</td>\n",
       "      <td>1</td>\n",
       "      <td>1</td>\n",
       "    </tr>\n",
       "    <tr>\n",
       "      <th>2</th>\n",
       "      <td>1</td>\n",
       "      <td>-1</td>\n",
       "      <td>1</td>\n",
       "    </tr>\n",
       "    <tr>\n",
       "      <th>3</th>\n",
       "      <td>1</td>\n",
       "      <td>1</td>\n",
       "      <td>-1</td>\n",
       "    </tr>\n",
       "  </tbody>\n",
       "</table>\n",
       "</div>"
      ],
      "text/plain": [
       "   x1  x2  y\n",
       "0  -1  -1 -1\n",
       "1  -1   1  1\n",
       "2   1  -1  1\n",
       "3   1   1 -1"
      ]
     },
     "execution_count": 2,
     "metadata": {},
     "output_type": "execute_result"
    }
   ],
   "source": [
    "xor_table = pd.DataFrame({\n",
    "    'x1': [-1, -1, +1, +1],\n",
    "    'x2': [-1, +1, -1, +1],\n",
    "    'y': [-1, 1, 1, -1],\n",
    "})\n",
    "xs = xor_table[['x1', 'x2']].values\n",
    "ds = xor_table[['y']].values\n",
    "display(xs, ds)\n",
    "xor_table"
   ]
  },
  {
   "cell_type": "markdown",
   "metadata": {},
   "source": [
    "### Ядро\n",
    "\n",
    "$K(x, x_i) = \\varphi^T(x) \\varphi(x_i) = \\Sigma_{j=0}^{m1} \\varphi_j(x) \\varphi_j(x_i)$\n",
    "\n",
    "полиномиальное ядро\n",
    "$K = (x^Tx_i + 1)^p$"
   ]
  },
  {
   "cell_type": "code",
   "execution_count": 5,
   "metadata": {},
   "outputs": [
    {
     "data": {
      "text/plain": [
       "array([[9, 1, 1, 1],\n",
       "       [1, 9, 1, 1],\n",
       "       [1, 1, 9, 1],\n",
       "       [1, 1, 1, 9]])"
      ]
     },
     "execution_count": 5,
     "metadata": {},
     "output_type": "execute_result"
    }
   ],
   "source": [
    "K = (xs @ xs.T + 1) ** 2\n",
    "C = 1\n",
    "K"
   ]
  },
  {
   "cell_type": "markdown",
   "metadata": {},
   "source": [
    "[example 1](https://github.com/arkm97/svm-from-scratch/blob/master/SVM_from_scratch.ipynb),\n",
    "[example 2](https://github.com/ur6yr/support-vector-machine/blob/master/svm.ipynb), \n",
    "[3](https://github.com/kenextra/SVMAlgorithm/blob/master/SVM.py),\n",
    "[convex quadratic programs](http://cvxopt.org/userguide/coneprog.html#quadratic-programming)\n",
    "\n",
    "### Прямая задача (primal problem)\n",
    "- минимизировать целевую функцию $\\Phi(w) = \\frac{1}{2}w^Tw$ относительно $w$\n",
    "- при ограничении $d_i(w^Tx_i + b) \\ge 1$ для $i= 1,2,...,N$\n",
    "\n",
    "### Двойственная задача (dual problem)\n",
    "- максимизировать $Q(\\alpha) = \\Sigma_{i=1}^N\\alpha_i - \\frac{1}{2}\\Sigma_{i=1}^N\\Sigma_{j=1}^N\\alpha_i\\alpha_j d_i d_j x_i^T x_j$ относительно $\\alpha$\n",
    "- при ограничениях (subject to)\n",
    "  - $\\Sigma_{i=1}^N\\alpha_i d_i = 0$\n",
    "  - $0 \\le \\alpha_i \\le C$ для $i = 1, 2, ..., N$"
   ]
  },
  {
   "cell_type": "code",
   "execution_count": 86,
   "metadata": {
    "scrolled": false
   },
   "outputs": [
    {
     "name": "stdout",
     "output_type": "stream",
     "text": [
      "[[0.125]\n",
      " [0.125]\n",
      " [0.125]\n",
      " [0.125]] [[0.25]] [[0.70710678]]\n"
     ]
    }
   ],
   "source": [
    "a = cvxpy.Variable(shape=ds.shape)\n",
    "P = (ds @ ds.T) * K\n",
    "Q = cvxpy.sum(a) - 1/2 * cvxpy.quad_form(a, P)\n",
    "\n",
    "objective = cvxpy.Maximize(Q)\n",
    "constraints = [\n",
    "    cvxpy.sum(cvxpy.multiply(a, ds)) == 0,\n",
    "    0 <= a,\n",
    "    a <= C,\n",
    "]\n",
    "problem = cvxpy.Problem(objective, constraints)\n",
    "result = problem.solve()\n",
    "a = a.value\n",
    "Q = Q.value\n",
    "w_norm = (2*Q)**0.5\n",
    "print(a, Q, w_norm)"
   ]
  },
  {
   "cell_type": "markdown",
   "metadata": {},
   "source": [
    "уравнение гиперплоскости решений\n",
    "\n",
    "$\\Sigma_{j=1}^{m1} w_j \\varphi_j(x) + b = 0$\n",
    "\n",
    "$w^T \\varphi(x) = 0$"
   ]
  },
  {
   "cell_type": "code",
   "execution_count": 96,
   "metadata": {},
   "outputs": [
    {
     "data": {
      "text/plain": [
       "array([[-0.70710678],\n",
       "       [ 0.70710678],\n",
       "       [ 0.70710678],\n",
       "       [-0.70710678]])"
      ]
     },
     "execution_count": 96,
     "metadata": {},
     "output_type": "execute_result"
    }
   ],
   "source": [
    "K @ (a*ds * w_norm)"
   ]
  },
  {
   "cell_type": "code",
   "execution_count": 70,
   "metadata": {},
   "outputs": [],
   "source": [
    "def predict(X):\n",
    "    rs = X @ w + b\n",
    "    return rs"
   ]
  }
 ],
 "metadata": {
  "kernelspec": {
   "display_name": "Python 3",
   "language": "python",
   "name": "python3"
  },
  "language_info": {
   "codemirror_mode": {
    "name": "ipython",
    "version": 3
   },
   "file_extension": ".py",
   "mimetype": "text/x-python",
   "name": "python",
   "nbconvert_exporter": "python",
   "pygments_lexer": "ipython3",
   "version": "3.8.5"
  }
 },
 "nbformat": 4,
 "nbformat_minor": 4
}
