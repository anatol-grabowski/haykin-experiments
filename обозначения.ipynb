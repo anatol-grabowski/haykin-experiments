{
 "cells": [
  {
   "cell_type": "markdown",
   "metadata": {},
   "source": [
    "## Matrix multiplication by vector"
   ]
  },
  {
   "cell_type": "markdown",
   "metadata": {},
   "source": [
    "$\\boldsymbol{W}$ - $M \\times m1$ ($h \\times w$) matrix; $M$ - height; $m1$ - width\n",
    "\n",
    "$\\boldsymbol{W}=\\{w_{kj}; k=1, 2, ..., M; j=1, 2, ..., m1\\}={\\begin{bmatrix}w_{1,1}&w_{1,2}&...&w_{1,m1}\\\\...&...&...&...\\\\w_{k,1}&w_{k,2}&...&w_{M,m1}\\end{bmatrix}}$\n",
    "\n",
    "$\\boldsymbol{x}={\\begin{bmatrix}x_1&...&x_{m1}\\end{bmatrix}}^T={\\begin{bmatrix}x_1\\\\...\\\\x_{m1}\\end{bmatrix}}$\n",
    "\n",
    "$\\boldsymbol{y}=\\boldsymbol{W}\\boldsymbol{x}={\\begin{bmatrix}y_1\\\\...\\\\y_{m1}\\end{bmatrix}}$"
   ]
  },
  {
   "cell_type": "markdown",
   "metadata": {},
   "source": [
    "${\\begin{bmatrix}0&1&2&3\\\\4&5&6&7\\\\8&9&10&11\\end{bmatrix}}{\\begin{bmatrix}1\\\\10\\\\100\\\\1000\\end{bmatrix}}={\\begin{bmatrix}3210\\\\7654\\\\12098\\end{bmatrix}}$\n",
    "\n",
    "[np.matmul (@ operator) documentation](https://numpy.org/doc/stable/reference/generated/numpy.matmul.html#numpy.matmul)\n"
   ]
  },
  {
   "cell_type": "code",
   "execution_count": 71,
   "metadata": {},
   "outputs": [
    {
     "data": {
      "text/plain": [
       "(array([[ 0,  1,  2,  3],\n",
       "        [ 4,  5,  6,  7],\n",
       "        [ 8,  9, 10, 11]]),\n",
       " array([   1,   10,  100, 1000]),\n",
       " array([ 3210,  7654, 12098]))"
      ]
     },
     "execution_count": 71,
     "metadata": {},
     "output_type": "execute_result"
    }
   ],
   "source": [
    "import numpy as np\n",
    "\n",
    "M, m1 = 3, 4\n",
    "W = np.arange(M*m1).reshape(M, m1)\n",
    "x = np.array([1, 10, 100, 1000])\n",
    "y = np.matmul(W, x)\n",
    "W, x, y"
   ]
  },
  {
   "cell_type": "code",
   "execution_count": 69,
   "metadata": {},
   "outputs": [
    {
     "data": {
      "text/plain": [
       "array([ 3210,  7654, 12098])"
      ]
     },
     "execution_count": 69,
     "metadata": {},
     "output_type": "execute_result"
    }
   ],
   "source": [
    "W @ x"
   ]
  },
  {
   "cell_type": "code",
   "execution_count": 72,
   "metadata": {},
   "outputs": [
    {
     "data": {
      "text/plain": [
       "(array([[ 0,  1,  2,  3],\n",
       "        [ 4,  5,  6,  7],\n",
       "        [ 8,  9, 10, 11]]),\n",
       " array([[   1],\n",
       "        [  10],\n",
       "        [ 100],\n",
       "        [1000]]),\n",
       " array([[ 3210],\n",
       "        [ 7654],\n",
       "        [12098]]),\n",
       " array([[ 3210],\n",
       "        [ 7654],\n",
       "        [12098]]))"
      ]
     },
     "execution_count": 72,
     "metadata": {},
     "output_type": "execute_result"
    }
   ],
   "source": [
    "x_ = x.reshape(-1, 1)\n",
    "y_ = np.matmul(W, x_) \n",
    "W, x_, y_, W @ x_"
   ]
  },
  {
   "cell_type": "markdown",
   "metadata": {},
   "source": [
    "\n",
    "[np.dot documentation](https://numpy.org/doc/stable/reference/generated/numpy.dot.html)"
   ]
  },
  {
   "cell_type": "code",
   "execution_count": 65,
   "metadata": {},
   "outputs": [
    {
     "data": {
      "text/plain": [
       "(array([ 3210,  7654, 12098]),\n",
       " array([[ 3210],\n",
       "        [ 7654],\n",
       "        [12098]]))"
      ]
     },
     "execution_count": 65,
     "metadata": {},
     "output_type": "execute_result"
    }
   ],
   "source": [
    "# If a is an N-D array and b is a 1-D array, it is a sum product over the last axis of a and b.\n",
    "# If both a and b are 2-D arrays, it is matrix multiplication, but using matmul or a @ b is preferred.\n",
    "np.dot(W, x), np.dot(W, x_)"
   ]
  },
  {
   "cell_type": "code",
   "execution_count": 66,
   "metadata": {},
   "outputs": [
    {
     "data": {
      "text/plain": [
       "(1010101, 1005.037810234023, 1005.037810234023)"
      ]
     },
     "execution_count": 66,
     "metadata": {},
     "output_type": "execute_result"
    }
   ],
   "source": [
    "len_sq = np.dot(x,x)\n",
    "# If both a and b are 1-D arrays, it is inner product of vectors (without complex conjugation).\n",
    "len_sq, len_sq ** 0.5, np.sqrt(len_sq)"
   ]
  },
  {
   "cell_type": "code",
   "execution_count": 73,
   "metadata": {},
   "outputs": [],
   "source": [
    "# If a is an N-D array and b is an M-D array (where M>=2), \n",
    "# it is a sum product over the last axis of a and the second-to-last axis of b:\n",
    "# dot(a, b)[i,j,k,m] = sum(a[i,j,:] * b[k,:,m])"
   ]
  },
  {
   "cell_type": "markdown",
   "metadata": {},
   "source": [
    "- обратная матрица\n",
    "- псевдообратная матрица\n",
    "- ранг\n",
    "- сингулярность"
   ]
  }
 ],
 "metadata": {
  "kernelspec": {
   "display_name": "Python 3",
   "language": "python",
   "name": "python3"
  },
  "language_info": {
   "codemirror_mode": {
    "name": "ipython",
    "version": 3
   },
   "file_extension": ".py",
   "mimetype": "text/x-python",
   "name": "python",
   "nbconvert_exporter": "python",
   "pygments_lexer": "ipython3",
   "version": "3.8.5"
  }
 },
 "nbformat": 4,
 "nbformat_minor": 4
}
